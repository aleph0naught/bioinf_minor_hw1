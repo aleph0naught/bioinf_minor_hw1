{
 "cells": [
  {
   "cell_type": "code",
   "execution_count": 13,
   "id": "663d840a",
   "metadata": {},
   "outputs": [
    {
     "name": "stdout",
     "output_type": "stream",
     "text": [
      "общее кол-во контигов:  600\n",
      "суммарная длина контигов:  3924412\n",
      "длина самого длинного контига:  135087\n",
      "N50:  53980\n"
     ]
    }
   ],
   "source": [
    "# Анализ полученных контигов\n",
    "\n",
    "fl = open(\"Poil_contig.fa\", \"r\")\n",
    "cnt, lng = 0, 0\n",
    "ctgs = list()\n",
    "for line in fl.readlines():\n",
    "    if line[0] == '>':\n",
    "        lng_str = line[line.find('len') + 3 : line.find('_', line.find('len') + 3)]\n",
    "        lng += int(lng_str)\n",
    "        ctgs.append(int(lng_str))\n",
    "        cnt += 1\n",
    "\n",
    "print('общее кол-во контигов: ', cnt)\n",
    "print('суммарная длина контигов: ', lng)\n",
    "print('длина самого длинного контига: ', max(ctgs))\n",
    "\n",
    "ctgs = sorted(ctgs)[::-1]\n",
    "x = 0\n",
    "for i in ctgs:\n",
    "    x += i\n",
    "    if 2 * x >= lng:\n",
    "        print(\"N50: \", i)\n",
    "        break"
   ]
  },
  {
   "cell_type": "code",
   "execution_count": 14,
   "id": "87ef93bd",
   "metadata": {},
   "outputs": [
    {
     "name": "stdout",
     "output_type": "stream",
     "text": [
      "общее кол-во скаффолдов:  69\n",
      "суммарная длина скаффолдов:  3875599\n",
      "длина самого длинного скаффолда:  3834124\n",
      "N50:  3834124\n"
     ]
    }
   ],
   "source": [
    "# Анализ полученных скаффолдов\n",
    "\n",
    "fl = open(\"Poil_scaffold.fa\", \"r\")\n",
    "cnt, lng = 0, 0\n",
    "ctgs = list()\n",
    "for line in fl.readlines():\n",
    "    if line[0] == '>':\n",
    "        lng_str = line[line.find('len') + 3 : line.find('_', line.find('len') + 3)]\n",
    "        lng += int(lng_str)\n",
    "        ctgs.append(int(lng_str))\n",
    "        cnt += 1\n",
    "\n",
    "print('общее кол-во скаффолдов: ', cnt)\n",
    "print('суммарная длина скаффолдов: ', lng)\n",
    "print('длина самого длинного скаффолда: ', max(ctgs))\n",
    "\n",
    "ctgs = sorted(ctgs)[::-1]\n",
    "x = 0\n",
    "for i in ctgs:\n",
    "    x += i\n",
    "    if 2 * x >= lng:\n",
    "        print(\"N50: \", i)\n",
    "        break"
   ]
  },
  {
   "cell_type": "code",
   "execution_count": 15,
   "id": "9abbd940",
   "metadata": {},
   "outputs": [
    {
     "name": "stdout",
     "output_type": "stream",
     "text": [
      "количество гэпов:  62\n",
      "общая длина гэпов:  5786\n"
     ]
    }
   ],
   "source": [
    "# До уменьшения кол-ва гэпов с помощью подрезанных чтений\n",
    "\n",
    "import re\n",
    "from Bio import SeqIO\n",
    "max_scaf = str(max(SeqIO.parse('Poil_scaffold.fa', 'fasta'), key=len).seq)\n",
    "\n",
    "gap_list = list(map(len, re.findall('N+', max_scaf)))\n",
    "print('количество гэпов: ', len(gap_list))\n",
    "print('общая длина гэпов: ', sum(gap_list))"
   ]
  },
  {
   "cell_type": "code",
   "execution_count": 16,
   "id": "44035ab0",
   "metadata": {},
   "outputs": [
    {
     "name": "stdout",
     "output_type": "stream",
     "text": [
      "количество гэпов:  8\n",
      "общая длина гэпов:  1674\n"
     ]
    }
   ],
   "source": [
    "# После уменьшения кол-ва гэпов с помощью подрезанных чтений\n",
    "\n",
    "max_scaf = str(max(SeqIO.parse('Poil_gapClosed.fa', 'fasta'), key=len).seq)\n",
    "\n",
    "gap_list = list(map(len, re.findall('N+', max_scaf)))\n",
    "print('количество гэпов: ', len(gap_list))\n",
    "print('общая длина гэпов: ', sum(gap_list))"
   ]
  },
  {
   "cell_type": "code",
   "execution_count": 17,
   "id": "77aee443",
   "metadata": {},
   "outputs": [
    {
     "data": {
      "text/plain": [
       "1"
      ]
     },
     "execution_count": 17,
     "metadata": {},
     "output_type": "execute_result"
    }
   ],
   "source": [
    "SeqIO.write([max(SeqIO.parse('Poil_gapClosed.fa', 'fasta'), key=len)], 'longest.fasta', 'fasta')"
   ]
  },
  {
   "cell_type": "code",
   "execution_count": null,
   "id": "3ee77339",
   "metadata": {},
   "outputs": [],
   "source": []
  }
 ],
 "metadata": {
  "kernelspec": {
   "display_name": "Python 3 (ipykernel)",
   "language": "python",
   "name": "python3"
  },
  "language_info": {
   "codemirror_mode": {
    "name": "ipython",
    "version": 3
   },
   "file_extension": ".py",
   "mimetype": "text/x-python",
   "name": "python",
   "nbconvert_exporter": "python",
   "pygments_lexer": "ipython3",
   "version": "3.9.7"
  }
 },
 "nbformat": 4,
 "nbformat_minor": 5
}
